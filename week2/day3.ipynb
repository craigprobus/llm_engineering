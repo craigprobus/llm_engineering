{
 "cells": [
  {
   "cell_type": "markdown",
   "id": "75e2ef28-594f-4c18-9d22-c6b8cd40ead2",
   "metadata": {},
   "source": [
    "# Day 3 - Conversational AI - aka Chatbot!"
   ]
  },
  {
   "cell_type": "code",
   "execution_count": 9,
   "id": "70e39cd8-ec79-4e3e-9c26-5659d42d0861",
   "metadata": {},
   "outputs": [],
   "source": [
    "# imports\n",
    "\n",
    "import os\n",
    "from dotenv import load_dotenv\n",
    "from openai import OpenAI\n",
    "import gradio as gr"
   ]
  },
  {
   "cell_type": "code",
   "execution_count": 10,
   "id": "231605aa-fccb-447e-89cf-8b187444536a",
   "metadata": {},
   "outputs": [
    {
     "name": "stdout",
     "output_type": "stream",
     "text": [
      "OpenAI API Key exists and begins sk-proj-\n",
      "Anthropic API Key exists and begins sk-ant-\n",
      "Google API Key exists and begins AIzaSyDD\n"
     ]
    }
   ],
   "source": [
    "# Load environment variables in a file called .env\n",
    "# Print the key prefixes to help with any debugging\n",
    "\n",
    "load_dotenv()\n",
    "openai_api_key = os.getenv('OPENAI_API_KEY')\n",
    "anthropic_api_key = os.getenv('ANTHROPIC_API_KEY')\n",
    "google_api_key = os.getenv('GOOGLE_API_KEY')\n",
    "\n",
    "if openai_api_key:\n",
    "    print(f\"OpenAI API Key exists and begins {openai_api_key[:8]}\")\n",
    "else:\n",
    "    print(\"OpenAI API Key not set\")\n",
    "    \n",
    "if anthropic_api_key:\n",
    "    print(f\"Anthropic API Key exists and begins {anthropic_api_key[:7]}\")\n",
    "else:\n",
    "    print(\"Anthropic API Key not set\")\n",
    "\n",
    "if google_api_key:\n",
    "    print(f\"Google API Key exists and begins {google_api_key[:8]}\")\n",
    "else:\n",
    "    print(\"Google API Key not set\")"
   ]
  },
  {
   "cell_type": "code",
   "execution_count": 11,
   "id": "6541d58e-2297-4de1-b1f7-77da1b98b8bb",
   "metadata": {},
   "outputs": [],
   "source": [
    "# Initialize\n",
    "\n",
    "openai = OpenAI()\n",
    "MODEL = 'gpt-4o-mini'"
   ]
  },
  {
   "cell_type": "code",
   "execution_count": 12,
   "id": "e16839b5-c03b-4d9d-add6-87a0f6f37575",
   "metadata": {},
   "outputs": [],
   "source": [
    "system_message = \"You are a helpful assistant\""
   ]
  },
  {
   "cell_type": "markdown",
   "id": "98e97227-f162-4d1a-a0b2-345ff248cbe7",
   "metadata": {},
   "source": [
    "# Please read this! A change from the video:\n",
    "\n",
    "In the video, I explain how we now need to write a function called:\n",
    "\n",
    "`chat(message, history)`\n",
    "\n",
    "Which expects to receive `history` in a particular format, which we need to map to the OpenAI format before we call OpenAI:\n",
    "\n",
    "```\n",
    "[\n",
    "    {\"role\": \"system\", \"content\": \"system message here\"},\n",
    "    {\"role\": \"user\", \"content\": \"first user prompt here\"},\n",
    "    {\"role\": \"assistant\", \"content\": \"the assistant's response\"},\n",
    "    {\"role\": \"user\", \"content\": \"the new user prompt\"},\n",
    "]\n",
    "```\n",
    "\n",
    "But Gradio has been upgraded! Now it will pass in `history` in the exact OpenAI format, perfect for us to send straight to OpenAI.\n",
    "\n",
    "So our work just got easier!\n",
    "\n",
    "We will write a function `chat(message, history)` where:  \n",
    "**message** is the prompt to use  \n",
    "**history** is the past conversation, in OpenAI format  \n",
    "\n",
    "We will combine the system message, history and latest message, then call OpenAI."
   ]
  },
  {
   "cell_type": "code",
   "execution_count": 15,
   "id": "1eacc8a4-4b48-4358-9e06-ce0020041bc1",
   "metadata": {},
   "outputs": [],
   "source": [
    "# Simpler than in my video - we can easily create this function that calls OpenAI\n",
    "# It's now just 1 line of code to prepare the input to OpenAI!\n",
    "\n",
    "def chat(message, history):\n",
    "    messages = [{\"role\": \"system\", \"content\": system_message}] + history + [{\"role\": \"user\", \"content\": message}]\n",
    "\n",
    "    print(\"HISTORY:\")\n",
    "    print(history)\n",
    "    print(\"MESSAGES:\")\n",
    "    print(messages)\n",
    "\n",
    "    stream = openai.chat.completions.create(model=MODEL, messages=messages, stream=True)\n",
    "\n",
    "    response = \"\"\n",
    "    for chunk in stream:\n",
    "        response += chunk.choices[0].delta.content or ''\n",
    "        yield response"
   ]
  },
  {
   "cell_type": "markdown",
   "id": "1334422a-808f-4147-9c4c-57d63d9780d0",
   "metadata": {},
   "source": [
    "## And then enter Gradio's magic!"
   ]
  },
  {
   "cell_type": "code",
   "execution_count": 16,
   "id": "0866ca56-100a-44ab-8bd0-1568feaf6bf2",
   "metadata": {},
   "outputs": [
    {
     "name": "stdout",
     "output_type": "stream",
     "text": [
      "* Running on local URL:  http://127.0.0.1:7877\n",
      "\n",
      "To create a public link, set `share=True` in `launch()`.\n"
     ]
    },
    {
     "data": {
      "text/html": [
       "<div><iframe src=\"http://127.0.0.1:7877/\" width=\"100%\" height=\"500\" allow=\"autoplay; camera; microphone; clipboard-read; clipboard-write;\" frameborder=\"0\" allowfullscreen></iframe></div>"
      ],
      "text/plain": [
       "<IPython.core.display.HTML object>"
      ]
     },
     "metadata": {},
     "output_type": "display_data"
    },
    {
     "data": {
      "text/plain": []
     },
     "execution_count": 16,
     "metadata": {},
     "output_type": "execute_result"
    },
    {
     "name": "stdout",
     "output_type": "stream",
     "text": [
      "HISTORY:\n",
      "[]\n",
      "MESSAGES:\n",
      "[{'role': 'system', 'content': 'You are a helpful assistant'}, {'role': 'user', 'content': 'Howdy!'}]\n",
      "HISTORY:\n",
      "[{'role': 'user', 'metadata': None, 'content': 'Howdy!', 'options': None}, {'role': 'assistant', 'metadata': None, 'content': 'Howdy! How can I assist you today?', 'options': None}]\n",
      "MESSAGES:\n",
      "[{'role': 'system', 'content': 'You are a helpful assistant'}, {'role': 'user', 'metadata': None, 'content': 'Howdy!', 'options': None}, {'role': 'assistant', 'metadata': None, 'content': 'Howdy! How can I assist you today?', 'options': None}, {'role': 'user', 'content': 'what are the types of traditions at Texas A&M University?'}]\n",
      "HISTORY:\n",
      "[{'role': 'user', 'metadata': None, 'content': 'Howdy!', 'options': None}, {'role': 'assistant', 'metadata': None, 'content': 'Howdy! How can I assist you today?', 'options': None}, {'role': 'user', 'metadata': None, 'content': 'what are the types of traditions at Texas A&M University?', 'options': None}, {'role': 'assistant', 'metadata': None, 'content': 'Texas A&M University has a rich history and a variety of traditions that are cherished by its students, alumni, and faculty. Here are some of the most notable traditions:\\n\\n1. **Aggie Spirit**: The concept of \"Aggie Spirit” encompasses loyalty, pride, and camaraderie among the Aggie community.\\n\\n2. **The Aggie Ring**: One of the most significant symbols of achievement at Texas A&M, the Aggie Ring is worn by students who have completed a certain number of credit hours. \\n\\n3. **Midnight Yell**: A pep rally held the night before home football games, featuring the Yell Leaders and the Aggie Band, where students gather to practice cheers and get hyped for the game.\\n\\n4. **Silver Taps**: A solemn ceremony held on the first Tuesday of each month to honor students who have passed away. The campus gathers at night, and the event includes a procession and the playing of \"Taps.\"\\n\\n5. **Bonfire**: Although the traditional Bonfire was tragically discontinued after the 1999 collapse, the spirit of Bonfire still lives on in various forms of celebration before the football game against the University of Texas.\\n\\n6. **The Corps of Cadets**: One of the oldest military organizations at a public university in the United States, the Corps has its own customs, ceremonies, and traditions, including the \"Guidon\" and the \"Silver Taps\" memorial.\\n\\n7. **Fish Camp**: A leadership camp for incoming freshmen (called \"Fish\") that fosters community, introduces them to university life, and builds connections with other Aggies.\\n\\n8. **Class Rings and Ring Day**: In addition to wearing the Aggie Ring, there is a special ceremony for students receiving their rings, emphasizing the significance of the ring to their education and identity as Aggies.\\n\\n9. **Howdy Week**: A week of activities aimed at welcoming new students to campus, featuring various events that promote Aggie traditions and encourage engagement within the university community.\\n\\n10. **Yell Leaders**: Unique to Texas A&M, these selected students lead the crowd in cheers and chants at athletic events, particularly football games.\\n\\n11. **Singing Cadence and the Aggie War Hymn**: The university community often participates in singing the Aggie War Hymn during events and celebrations.\\n\\nThese traditions contribute to a strong sense of identity and community among students, alumni, and faculty at Texas A&M University.', 'options': None}]\n",
      "MESSAGES:\n",
      "[{'role': 'system', 'content': 'You are a helpful assistant'}, {'role': 'user', 'metadata': None, 'content': 'Howdy!', 'options': None}, {'role': 'assistant', 'metadata': None, 'content': 'Howdy! How can I assist you today?', 'options': None}, {'role': 'user', 'metadata': None, 'content': 'what are the types of traditions at Texas A&M University?', 'options': None}, {'role': 'assistant', 'metadata': None, 'content': 'Texas A&M University has a rich history and a variety of traditions that are cherished by its students, alumni, and faculty. Here are some of the most notable traditions:\\n\\n1. **Aggie Spirit**: The concept of \"Aggie Spirit” encompasses loyalty, pride, and camaraderie among the Aggie community.\\n\\n2. **The Aggie Ring**: One of the most significant symbols of achievement at Texas A&M, the Aggie Ring is worn by students who have completed a certain number of credit hours. \\n\\n3. **Midnight Yell**: A pep rally held the night before home football games, featuring the Yell Leaders and the Aggie Band, where students gather to practice cheers and get hyped for the game.\\n\\n4. **Silver Taps**: A solemn ceremony held on the first Tuesday of each month to honor students who have passed away. The campus gathers at night, and the event includes a procession and the playing of \"Taps.\"\\n\\n5. **Bonfire**: Although the traditional Bonfire was tragically discontinued after the 1999 collapse, the spirit of Bonfire still lives on in various forms of celebration before the football game against the University of Texas.\\n\\n6. **The Corps of Cadets**: One of the oldest military organizations at a public university in the United States, the Corps has its own customs, ceremonies, and traditions, including the \"Guidon\" and the \"Silver Taps\" memorial.\\n\\n7. **Fish Camp**: A leadership camp for incoming freshmen (called \"Fish\") that fosters community, introduces them to university life, and builds connections with other Aggies.\\n\\n8. **Class Rings and Ring Day**: In addition to wearing the Aggie Ring, there is a special ceremony for students receiving their rings, emphasizing the significance of the ring to their education and identity as Aggies.\\n\\n9. **Howdy Week**: A week of activities aimed at welcoming new students to campus, featuring various events that promote Aggie traditions and encourage engagement within the university community.\\n\\n10. **Yell Leaders**: Unique to Texas A&M, these selected students lead the crowd in cheers and chants at athletic events, particularly football games.\\n\\n11. **Singing Cadence and the Aggie War Hymn**: The university community often participates in singing the Aggie War Hymn during events and celebrations.\\n\\nThese traditions contribute to a strong sense of identity and community among students, alumni, and faculty at Texas A&M University.', 'options': None}, {'role': 'user', 'content': 'why has the Bon Fire stopped?'}]\n",
      "HISTORY:\n",
      "[{'role': 'user', 'metadata': None, 'content': 'Howdy!', 'options': None}, {'role': 'assistant', 'metadata': None, 'content': 'Howdy! How can I assist you today?', 'options': None}, {'role': 'user', 'metadata': None, 'content': 'what are the types of traditions at Texas A&M University?', 'options': None}, {'role': 'assistant', 'metadata': None, 'content': 'Texas A&M University has a rich history and a variety of traditions that are cherished by its students, alumni, and faculty. Here are some of the most notable traditions:\\n\\n1. **Aggie Spirit**: The concept of \"Aggie Spirit” encompasses loyalty, pride, and camaraderie among the Aggie community.\\n\\n2. **The Aggie Ring**: One of the most significant symbols of achievement at Texas A&M, the Aggie Ring is worn by students who have completed a certain number of credit hours. \\n\\n3. **Midnight Yell**: A pep rally held the night before home football games, featuring the Yell Leaders and the Aggie Band, where students gather to practice cheers and get hyped for the game.\\n\\n4. **Silver Taps**: A solemn ceremony held on the first Tuesday of each month to honor students who have passed away. The campus gathers at night, and the event includes a procession and the playing of \"Taps.\"\\n\\n5. **Bonfire**: Although the traditional Bonfire was tragically discontinued after the 1999 collapse, the spirit of Bonfire still lives on in various forms of celebration before the football game against the University of Texas.\\n\\n6. **The Corps of Cadets**: One of the oldest military organizations at a public university in the United States, the Corps has its own customs, ceremonies, and traditions, including the \"Guidon\" and the \"Silver Taps\" memorial.\\n\\n7. **Fish Camp**: A leadership camp for incoming freshmen (called \"Fish\") that fosters community, introduces them to university life, and builds connections with other Aggies.\\n\\n8. **Class Rings and Ring Day**: In addition to wearing the Aggie Ring, there is a special ceremony for students receiving their rings, emphasizing the significance of the ring to their education and identity as Aggies.\\n\\n9. **Howdy Week**: A week of activities aimed at welcoming new students to campus, featuring various events that promote Aggie traditions and encourage engagement within the university community.\\n\\n10. **Yell Leaders**: Unique to Texas A&M, these selected students lead the crowd in cheers and chants at athletic events, particularly football games.\\n\\n11. **Singing Cadence and the Aggie War Hymn**: The university community often participates in singing the Aggie War Hymn during events and celebrations.\\n\\nThese traditions contribute to a strong sense of identity and community among students, alumni, and faculty at Texas A&M University.', 'options': None}, {'role': 'user', 'metadata': None, 'content': 'why has the Bon Fire stopped?', 'options': None}, {'role': 'assistant', 'metadata': None, 'content': 'The traditional Texas A&M University Bonfire was discontinued after the tragic collapse of the structure in 1999, which resulted in the deaths of 12 students and injuries to many others. \\n\\nThe Bonfire, which had been a longstanding tradition in which students would gather to build a massive wooden structure to be burned before the football game against the University of Texas, faced increasing safety concerns over the years. Despite efforts to address these concerns and improve safety protocols, the tragic incident highlighted the risks associated with the construction and participation in Bonfire activities.\\n\\nFollowing the disaster, the university conducted a thorough investigation, and the Texas A&M administration made the decision to suspend the Bonfire tradition permanently. \\n\\nAlthough the physical Bonfire as it once was is no longer held, the spirit of Bonfire continues to be commemorated in other ways, including smaller events and alternative celebrations that honor the tradition and the lives of those lost. The Aggie community remains committed to remembering the students and their contribution to Texas A&M.', 'options': None}]\n",
      "MESSAGES:\n",
      "[{'role': 'system', 'content': 'You are a helpful assistant'}, {'role': 'user', 'metadata': None, 'content': 'Howdy!', 'options': None}, {'role': 'assistant', 'metadata': None, 'content': 'Howdy! How can I assist you today?', 'options': None}, {'role': 'user', 'metadata': None, 'content': 'what are the types of traditions at Texas A&M University?', 'options': None}, {'role': 'assistant', 'metadata': None, 'content': 'Texas A&M University has a rich history and a variety of traditions that are cherished by its students, alumni, and faculty. Here are some of the most notable traditions:\\n\\n1. **Aggie Spirit**: The concept of \"Aggie Spirit” encompasses loyalty, pride, and camaraderie among the Aggie community.\\n\\n2. **The Aggie Ring**: One of the most significant symbols of achievement at Texas A&M, the Aggie Ring is worn by students who have completed a certain number of credit hours. \\n\\n3. **Midnight Yell**: A pep rally held the night before home football games, featuring the Yell Leaders and the Aggie Band, where students gather to practice cheers and get hyped for the game.\\n\\n4. **Silver Taps**: A solemn ceremony held on the first Tuesday of each month to honor students who have passed away. The campus gathers at night, and the event includes a procession and the playing of \"Taps.\"\\n\\n5. **Bonfire**: Although the traditional Bonfire was tragically discontinued after the 1999 collapse, the spirit of Bonfire still lives on in various forms of celebration before the football game against the University of Texas.\\n\\n6. **The Corps of Cadets**: One of the oldest military organizations at a public university in the United States, the Corps has its own customs, ceremonies, and traditions, including the \"Guidon\" and the \"Silver Taps\" memorial.\\n\\n7. **Fish Camp**: A leadership camp for incoming freshmen (called \"Fish\") that fosters community, introduces them to university life, and builds connections with other Aggies.\\n\\n8. **Class Rings and Ring Day**: In addition to wearing the Aggie Ring, there is a special ceremony for students receiving their rings, emphasizing the significance of the ring to their education and identity as Aggies.\\n\\n9. **Howdy Week**: A week of activities aimed at welcoming new students to campus, featuring various events that promote Aggie traditions and encourage engagement within the university community.\\n\\n10. **Yell Leaders**: Unique to Texas A&M, these selected students lead the crowd in cheers and chants at athletic events, particularly football games.\\n\\n11. **Singing Cadence and the Aggie War Hymn**: The university community often participates in singing the Aggie War Hymn during events and celebrations.\\n\\nThese traditions contribute to a strong sense of identity and community among students, alumni, and faculty at Texas A&M University.', 'options': None}, {'role': 'user', 'metadata': None, 'content': 'why has the Bon Fire stopped?', 'options': None}, {'role': 'assistant', 'metadata': None, 'content': 'The traditional Texas A&M University Bonfire was discontinued after the tragic collapse of the structure in 1999, which resulted in the deaths of 12 students and injuries to many others. \\n\\nThe Bonfire, which had been a longstanding tradition in which students would gather to build a massive wooden structure to be burned before the football game against the University of Texas, faced increasing safety concerns over the years. Despite efforts to address these concerns and improve safety protocols, the tragic incident highlighted the risks associated with the construction and participation in Bonfire activities.\\n\\nFollowing the disaster, the university conducted a thorough investigation, and the Texas A&M administration made the decision to suspend the Bonfire tradition permanently. \\n\\nAlthough the physical Bonfire as it once was is no longer held, the spirit of Bonfire continues to be commemorated in other ways, including smaller events and alternative celebrations that honor the tradition and the lives of those lost. The Aggie community remains committed to remembering the students and their contribution to Texas A&M.', 'options': None}, {'role': 'user', 'content': 'What are some of the traditions at Old Dominion University?'}]\n",
      "HISTORY:\n",
      "[{'role': 'user', 'metadata': None, 'content': 'Howdy!', 'options': None}, {'role': 'assistant', 'metadata': None, 'content': 'Howdy! How can I assist you today?', 'options': None}, {'role': 'user', 'metadata': None, 'content': 'what are the types of traditions at Texas A&M University?', 'options': None}, {'role': 'assistant', 'metadata': None, 'content': 'Texas A&M University has a rich history and a variety of traditions that are cherished by its students, alumni, and faculty. Here are some of the most notable traditions:\\n\\n1. **Aggie Spirit**: The concept of \"Aggie Spirit” encompasses loyalty, pride, and camaraderie among the Aggie community.\\n\\n2. **The Aggie Ring**: One of the most significant symbols of achievement at Texas A&M, the Aggie Ring is worn by students who have completed a certain number of credit hours. \\n\\n3. **Midnight Yell**: A pep rally held the night before home football games, featuring the Yell Leaders and the Aggie Band, where students gather to practice cheers and get hyped for the game.\\n\\n4. **Silver Taps**: A solemn ceremony held on the first Tuesday of each month to honor students who have passed away. The campus gathers at night, and the event includes a procession and the playing of \"Taps.\"\\n\\n5. **Bonfire**: Although the traditional Bonfire was tragically discontinued after the 1999 collapse, the spirit of Bonfire still lives on in various forms of celebration before the football game against the University of Texas.\\n\\n6. **The Corps of Cadets**: One of the oldest military organizations at a public university in the United States, the Corps has its own customs, ceremonies, and traditions, including the \"Guidon\" and the \"Silver Taps\" memorial.\\n\\n7. **Fish Camp**: A leadership camp for incoming freshmen (called \"Fish\") that fosters community, introduces them to university life, and builds connections with other Aggies.\\n\\n8. **Class Rings and Ring Day**: In addition to wearing the Aggie Ring, there is a special ceremony for students receiving their rings, emphasizing the significance of the ring to their education and identity as Aggies.\\n\\n9. **Howdy Week**: A week of activities aimed at welcoming new students to campus, featuring various events that promote Aggie traditions and encourage engagement within the university community.\\n\\n10. **Yell Leaders**: Unique to Texas A&M, these selected students lead the crowd in cheers and chants at athletic events, particularly football games.\\n\\n11. **Singing Cadence and the Aggie War Hymn**: The university community often participates in singing the Aggie War Hymn during events and celebrations.\\n\\nThese traditions contribute to a strong sense of identity and community among students, alumni, and faculty at Texas A&M University.', 'options': None}, {'role': 'user', 'metadata': None, 'content': 'why has the Bon Fire stopped?', 'options': None}, {'role': 'assistant', 'metadata': None, 'content': 'The traditional Texas A&M University Bonfire was discontinued after the tragic collapse of the structure in 1999, which resulted in the deaths of 12 students and injuries to many others. \\n\\nThe Bonfire, which had been a longstanding tradition in which students would gather to build a massive wooden structure to be burned before the football game against the University of Texas, faced increasing safety concerns over the years. Despite efforts to address these concerns and improve safety protocols, the tragic incident highlighted the risks associated with the construction and participation in Bonfire activities.\\n\\nFollowing the disaster, the university conducted a thorough investigation, and the Texas A&M administration made the decision to suspend the Bonfire tradition permanently. \\n\\nAlthough the physical Bonfire as it once was is no longer held, the spirit of Bonfire continues to be commemorated in other ways, including smaller events and alternative celebrations that honor the tradition and the lives of those lost. The Aggie community remains committed to remembering the students and their contribution to Texas A&M.', 'options': None}, {'role': 'user', 'metadata': None, 'content': 'What are some of the traditions at Old Dominion University?', 'options': None}, {'role': 'assistant', 'metadata': None, 'content': \"Old Dominion University (ODU) has its own unique set of traditions that reflect the spirit and culture of the university and its community. Here are some notable traditions at ODU:\\n\\n1. **The Big Blue**: The university mascot, a blue monarch, serves as a symbol of school spirit at athletic events and other university functions.\\n\\n2. **Homecoming**: A cherished tradition that typically features a week of festivities, including parades, a football game, and various student activities designed to bring alumni and current students together.\\n\\n3. **The Royal Court**: Part of the Homecoming festivities, the Royal Court includes the Homecoming Queen and King, alongside other court members, who are elected by students and represent the university community.\\n\\n4. **ODU Spirit Walk**: A tradition during Homecoming and other celebrations, the Spirit Walk involves students, alumni, and fans gathering to showcase their ODU pride and cheer on the Monarchs.\\n\\n5. **The Monarch Way**: This walkway features signs and artwork celebrating ODU's history, values, and achievements. It's a pathway that connects campus and serves as a space for students, faculty, and visitors.\\n\\n6. **FestEvents**: Organized by the university, these events include various activities, performances, and shows that encourage community engagement and foster a sense of belonging on campus.\\n\\n7. **Coastal Virginia Celebration**: This event recognizes the connection between ODU and the local community, featuring activities that highlight both the university's and the region's culture.\\n\\n8. **Student Organizations and Involvement**: ODU has hundreds of student organizations that contribute to campus life, reflecting diverse interests, cultures, and academic disciplines, with many hosting their own traditions and events.\\n\\n9. **Relay for Life**: As part of a nationwide initiative, ODU participates in Relay for Life events to raise awareness and funds for cancer research and support.\\n\\n10. **Finals Week Exam Breakfast**: This tradition offers a late-night breakfast for students during finals week, providing a study break and a chance for students to come together and relax.\\n\\nThese traditions help foster school spirit, community, and involvement at Old Dominion University, making it a vibrant place for students, faculty, and alumni.\", 'options': None}]\n",
      "MESSAGES:\n",
      "[{'role': 'system', 'content': 'You are a helpful assistant'}, {'role': 'user', 'metadata': None, 'content': 'Howdy!', 'options': None}, {'role': 'assistant', 'metadata': None, 'content': 'Howdy! How can I assist you today?', 'options': None}, {'role': 'user', 'metadata': None, 'content': 'what are the types of traditions at Texas A&M University?', 'options': None}, {'role': 'assistant', 'metadata': None, 'content': 'Texas A&M University has a rich history and a variety of traditions that are cherished by its students, alumni, and faculty. Here are some of the most notable traditions:\\n\\n1. **Aggie Spirit**: The concept of \"Aggie Spirit” encompasses loyalty, pride, and camaraderie among the Aggie community.\\n\\n2. **The Aggie Ring**: One of the most significant symbols of achievement at Texas A&M, the Aggie Ring is worn by students who have completed a certain number of credit hours. \\n\\n3. **Midnight Yell**: A pep rally held the night before home football games, featuring the Yell Leaders and the Aggie Band, where students gather to practice cheers and get hyped for the game.\\n\\n4. **Silver Taps**: A solemn ceremony held on the first Tuesday of each month to honor students who have passed away. The campus gathers at night, and the event includes a procession and the playing of \"Taps.\"\\n\\n5. **Bonfire**: Although the traditional Bonfire was tragically discontinued after the 1999 collapse, the spirit of Bonfire still lives on in various forms of celebration before the football game against the University of Texas.\\n\\n6. **The Corps of Cadets**: One of the oldest military organizations at a public university in the United States, the Corps has its own customs, ceremonies, and traditions, including the \"Guidon\" and the \"Silver Taps\" memorial.\\n\\n7. **Fish Camp**: A leadership camp for incoming freshmen (called \"Fish\") that fosters community, introduces them to university life, and builds connections with other Aggies.\\n\\n8. **Class Rings and Ring Day**: In addition to wearing the Aggie Ring, there is a special ceremony for students receiving their rings, emphasizing the significance of the ring to their education and identity as Aggies.\\n\\n9. **Howdy Week**: A week of activities aimed at welcoming new students to campus, featuring various events that promote Aggie traditions and encourage engagement within the university community.\\n\\n10. **Yell Leaders**: Unique to Texas A&M, these selected students lead the crowd in cheers and chants at athletic events, particularly football games.\\n\\n11. **Singing Cadence and the Aggie War Hymn**: The university community often participates in singing the Aggie War Hymn during events and celebrations.\\n\\nThese traditions contribute to a strong sense of identity and community among students, alumni, and faculty at Texas A&M University.', 'options': None}, {'role': 'user', 'metadata': None, 'content': 'why has the Bon Fire stopped?', 'options': None}, {'role': 'assistant', 'metadata': None, 'content': 'The traditional Texas A&M University Bonfire was discontinued after the tragic collapse of the structure in 1999, which resulted in the deaths of 12 students and injuries to many others. \\n\\nThe Bonfire, which had been a longstanding tradition in which students would gather to build a massive wooden structure to be burned before the football game against the University of Texas, faced increasing safety concerns over the years. Despite efforts to address these concerns and improve safety protocols, the tragic incident highlighted the risks associated with the construction and participation in Bonfire activities.\\n\\nFollowing the disaster, the university conducted a thorough investigation, and the Texas A&M administration made the decision to suspend the Bonfire tradition permanently. \\n\\nAlthough the physical Bonfire as it once was is no longer held, the spirit of Bonfire continues to be commemorated in other ways, including smaller events and alternative celebrations that honor the tradition and the lives of those lost. The Aggie community remains committed to remembering the students and their contribution to Texas A&M.', 'options': None}, {'role': 'user', 'metadata': None, 'content': 'What are some of the traditions at Old Dominion University?', 'options': None}, {'role': 'assistant', 'metadata': None, 'content': \"Old Dominion University (ODU) has its own unique set of traditions that reflect the spirit and culture of the university and its community. Here are some notable traditions at ODU:\\n\\n1. **The Big Blue**: The university mascot, a blue monarch, serves as a symbol of school spirit at athletic events and other university functions.\\n\\n2. **Homecoming**: A cherished tradition that typically features a week of festivities, including parades, a football game, and various student activities designed to bring alumni and current students together.\\n\\n3. **The Royal Court**: Part of the Homecoming festivities, the Royal Court includes the Homecoming Queen and King, alongside other court members, who are elected by students and represent the university community.\\n\\n4. **ODU Spirit Walk**: A tradition during Homecoming and other celebrations, the Spirit Walk involves students, alumni, and fans gathering to showcase their ODU pride and cheer on the Monarchs.\\n\\n5. **The Monarch Way**: This walkway features signs and artwork celebrating ODU's history, values, and achievements. It's a pathway that connects campus and serves as a space for students, faculty, and visitors.\\n\\n6. **FestEvents**: Organized by the university, these events include various activities, performances, and shows that encourage community engagement and foster a sense of belonging on campus.\\n\\n7. **Coastal Virginia Celebration**: This event recognizes the connection between ODU and the local community, featuring activities that highlight both the university's and the region's culture.\\n\\n8. **Student Organizations and Involvement**: ODU has hundreds of student organizations that contribute to campus life, reflecting diverse interests, cultures, and academic disciplines, with many hosting their own traditions and events.\\n\\n9. **Relay for Life**: As part of a nationwide initiative, ODU participates in Relay for Life events to raise awareness and funds for cancer research and support.\\n\\n10. **Finals Week Exam Breakfast**: This tradition offers a late-night breakfast for students during finals week, providing a study break and a chance for students to come together and relax.\\n\\nThese traditions help foster school spirit, community, and involvement at Old Dominion University, making it a vibrant place for students, faculty, and alumni.\", 'options': None}, {'role': 'user', 'content': 'what are the top public universities in Virginia?'}]\n",
      "HISTORY:\n",
      "[{'role': 'user', 'metadata': None, 'content': 'Howdy!', 'options': None}, {'role': 'assistant', 'metadata': None, 'content': 'Howdy! How can I assist you today?', 'options': None}, {'role': 'user', 'metadata': None, 'content': 'what are the types of traditions at Texas A&M University?', 'options': None}, {'role': 'assistant', 'metadata': None, 'content': 'Texas A&M University has a rich history and a variety of traditions that are cherished by its students, alumni, and faculty. Here are some of the most notable traditions:\\n\\n1. **Aggie Spirit**: The concept of \"Aggie Spirit” encompasses loyalty, pride, and camaraderie among the Aggie community.\\n\\n2. **The Aggie Ring**: One of the most significant symbols of achievement at Texas A&M, the Aggie Ring is worn by students who have completed a certain number of credit hours. \\n\\n3. **Midnight Yell**: A pep rally held the night before home football games, featuring the Yell Leaders and the Aggie Band, where students gather to practice cheers and get hyped for the game.\\n\\n4. **Silver Taps**: A solemn ceremony held on the first Tuesday of each month to honor students who have passed away. The campus gathers at night, and the event includes a procession and the playing of \"Taps.\"\\n\\n5. **Bonfire**: Although the traditional Bonfire was tragically discontinued after the 1999 collapse, the spirit of Bonfire still lives on in various forms of celebration before the football game against the University of Texas.\\n\\n6. **The Corps of Cadets**: One of the oldest military organizations at a public university in the United States, the Corps has its own customs, ceremonies, and traditions, including the \"Guidon\" and the \"Silver Taps\" memorial.\\n\\n7. **Fish Camp**: A leadership camp for incoming freshmen (called \"Fish\") that fosters community, introduces them to university life, and builds connections with other Aggies.\\n\\n8. **Class Rings and Ring Day**: In addition to wearing the Aggie Ring, there is a special ceremony for students receiving their rings, emphasizing the significance of the ring to their education and identity as Aggies.\\n\\n9. **Howdy Week**: A week of activities aimed at welcoming new students to campus, featuring various events that promote Aggie traditions and encourage engagement within the university community.\\n\\n10. **Yell Leaders**: Unique to Texas A&M, these selected students lead the crowd in cheers and chants at athletic events, particularly football games.\\n\\n11. **Singing Cadence and the Aggie War Hymn**: The university community often participates in singing the Aggie War Hymn during events and celebrations.\\n\\nThese traditions contribute to a strong sense of identity and community among students, alumni, and faculty at Texas A&M University.', 'options': None}, {'role': 'user', 'metadata': None, 'content': 'why has the Bon Fire stopped?', 'options': None}, {'role': 'assistant', 'metadata': None, 'content': 'The traditional Texas A&M University Bonfire was discontinued after the tragic collapse of the structure in 1999, which resulted in the deaths of 12 students and injuries to many others. \\n\\nThe Bonfire, which had been a longstanding tradition in which students would gather to build a massive wooden structure to be burned before the football game against the University of Texas, faced increasing safety concerns over the years. Despite efforts to address these concerns and improve safety protocols, the tragic incident highlighted the risks associated with the construction and participation in Bonfire activities.\\n\\nFollowing the disaster, the university conducted a thorough investigation, and the Texas A&M administration made the decision to suspend the Bonfire tradition permanently. \\n\\nAlthough the physical Bonfire as it once was is no longer held, the spirit of Bonfire continues to be commemorated in other ways, including smaller events and alternative celebrations that honor the tradition and the lives of those lost. The Aggie community remains committed to remembering the students and their contribution to Texas A&M.', 'options': None}, {'role': 'user', 'metadata': None, 'content': 'What are some of the traditions at Old Dominion University?', 'options': None}, {'role': 'assistant', 'metadata': None, 'content': \"Old Dominion University (ODU) has its own unique set of traditions that reflect the spirit and culture of the university and its community. Here are some notable traditions at ODU:\\n\\n1. **The Big Blue**: The university mascot, a blue monarch, serves as a symbol of school spirit at athletic events and other university functions.\\n\\n2. **Homecoming**: A cherished tradition that typically features a week of festivities, including parades, a football game, and various student activities designed to bring alumni and current students together.\\n\\n3. **The Royal Court**: Part of the Homecoming festivities, the Royal Court includes the Homecoming Queen and King, alongside other court members, who are elected by students and represent the university community.\\n\\n4. **ODU Spirit Walk**: A tradition during Homecoming and other celebrations, the Spirit Walk involves students, alumni, and fans gathering to showcase their ODU pride and cheer on the Monarchs.\\n\\n5. **The Monarch Way**: This walkway features signs and artwork celebrating ODU's history, values, and achievements. It's a pathway that connects campus and serves as a space for students, faculty, and visitors.\\n\\n6. **FestEvents**: Organized by the university, these events include various activities, performances, and shows that encourage community engagement and foster a sense of belonging on campus.\\n\\n7. **Coastal Virginia Celebration**: This event recognizes the connection between ODU and the local community, featuring activities that highlight both the university's and the region's culture.\\n\\n8. **Student Organizations and Involvement**: ODU has hundreds of student organizations that contribute to campus life, reflecting diverse interests, cultures, and academic disciplines, with many hosting their own traditions and events.\\n\\n9. **Relay for Life**: As part of a nationwide initiative, ODU participates in Relay for Life events to raise awareness and funds for cancer research and support.\\n\\n10. **Finals Week Exam Breakfast**: This tradition offers a late-night breakfast for students during finals week, providing a study break and a chance for students to come together and relax.\\n\\nThese traditions help foster school spirit, community, and involvement at Old Dominion University, making it a vibrant place for students, faculty, and alumni.\", 'options': None}, {'role': 'user', 'metadata': None, 'content': 'what are the top public universities in Virginia?', 'options': None}, {'role': 'assistant', 'metadata': None, 'content': \"Virginia is home to several highly regarded public universities. Here are some of the top public universities in Virginia, known for their academic programs, research initiatives, and overall reputation:\\n\\n1. **University of Virginia (UVA)**: Located in Charlottesville, UVA is one of the oldest universities in the United States and is renowned for its rigorous academics, distinguished faculty, and vibrant campus life. It consistently ranks among the top public universities in the nation.\\n\\n2. **Virginia Tech**: Based in Blacksburg, Virginia Tech is recognized for its engineering, technology, and agricultural programs. The university has a strong focus on research and offers a variety of undergraduate and graduate programs.\\n\\n3. **James Madison University (JMU)**: Situated in Harrisonburg, JMU is known for its strong emphasis on student life and community engagement. It offers a range of undergraduate and graduate programs, particularly in business, health sciences, and education.\\n\\n4. **George Mason University**: Located in Fairfax, George Mason is known for its diverse programs, particularly in law, public policy, and business. It has a strong focus on research and offers numerous opportunities for students to engage in practical experiences.\\n\\n5. **Old Dominion University (ODU)**: Based in Norfolk, ODU is known for its commitment to research and community engagement, particularly in areas such as engineering, business, and health sciences.\\n\\n6. **Virginia Commonwealth University (VCU)**: Located in Richmond, VCU is well-known for its programs in the arts, health sciences, and social work. The university has a vibrant urban campus and emphasizes research and creative scholarship.\\n\\n7. **Radford University**: Located in Radford, this university offers a range of undergraduate and graduate programs and is particularly known for its education, business, and health programs.\\n\\nThese institutions are noted for their academic excellence, research contributions, and overall impact on students and communities in Virginia and beyond. Rankings can vary based on different criteria, so it's also important to consider specific programs and areas of interest when evaluating universities.\", 'options': None}]\n",
      "MESSAGES:\n",
      "[{'role': 'system', 'content': 'You are a helpful assistant'}, {'role': 'user', 'metadata': None, 'content': 'Howdy!', 'options': None}, {'role': 'assistant', 'metadata': None, 'content': 'Howdy! How can I assist you today?', 'options': None}, {'role': 'user', 'metadata': None, 'content': 'what are the types of traditions at Texas A&M University?', 'options': None}, {'role': 'assistant', 'metadata': None, 'content': 'Texas A&M University has a rich history and a variety of traditions that are cherished by its students, alumni, and faculty. Here are some of the most notable traditions:\\n\\n1. **Aggie Spirit**: The concept of \"Aggie Spirit” encompasses loyalty, pride, and camaraderie among the Aggie community.\\n\\n2. **The Aggie Ring**: One of the most significant symbols of achievement at Texas A&M, the Aggie Ring is worn by students who have completed a certain number of credit hours. \\n\\n3. **Midnight Yell**: A pep rally held the night before home football games, featuring the Yell Leaders and the Aggie Band, where students gather to practice cheers and get hyped for the game.\\n\\n4. **Silver Taps**: A solemn ceremony held on the first Tuesday of each month to honor students who have passed away. The campus gathers at night, and the event includes a procession and the playing of \"Taps.\"\\n\\n5. **Bonfire**: Although the traditional Bonfire was tragically discontinued after the 1999 collapse, the spirit of Bonfire still lives on in various forms of celebration before the football game against the University of Texas.\\n\\n6. **The Corps of Cadets**: One of the oldest military organizations at a public university in the United States, the Corps has its own customs, ceremonies, and traditions, including the \"Guidon\" and the \"Silver Taps\" memorial.\\n\\n7. **Fish Camp**: A leadership camp for incoming freshmen (called \"Fish\") that fosters community, introduces them to university life, and builds connections with other Aggies.\\n\\n8. **Class Rings and Ring Day**: In addition to wearing the Aggie Ring, there is a special ceremony for students receiving their rings, emphasizing the significance of the ring to their education and identity as Aggies.\\n\\n9. **Howdy Week**: A week of activities aimed at welcoming new students to campus, featuring various events that promote Aggie traditions and encourage engagement within the university community.\\n\\n10. **Yell Leaders**: Unique to Texas A&M, these selected students lead the crowd in cheers and chants at athletic events, particularly football games.\\n\\n11. **Singing Cadence and the Aggie War Hymn**: The university community often participates in singing the Aggie War Hymn during events and celebrations.\\n\\nThese traditions contribute to a strong sense of identity and community among students, alumni, and faculty at Texas A&M University.', 'options': None}, {'role': 'user', 'metadata': None, 'content': 'why has the Bon Fire stopped?', 'options': None}, {'role': 'assistant', 'metadata': None, 'content': 'The traditional Texas A&M University Bonfire was discontinued after the tragic collapse of the structure in 1999, which resulted in the deaths of 12 students and injuries to many others. \\n\\nThe Bonfire, which had been a longstanding tradition in which students would gather to build a massive wooden structure to be burned before the football game against the University of Texas, faced increasing safety concerns over the years. Despite efforts to address these concerns and improve safety protocols, the tragic incident highlighted the risks associated with the construction and participation in Bonfire activities.\\n\\nFollowing the disaster, the university conducted a thorough investigation, and the Texas A&M administration made the decision to suspend the Bonfire tradition permanently. \\n\\nAlthough the physical Bonfire as it once was is no longer held, the spirit of Bonfire continues to be commemorated in other ways, including smaller events and alternative celebrations that honor the tradition and the lives of those lost. The Aggie community remains committed to remembering the students and their contribution to Texas A&M.', 'options': None}, {'role': 'user', 'metadata': None, 'content': 'What are some of the traditions at Old Dominion University?', 'options': None}, {'role': 'assistant', 'metadata': None, 'content': \"Old Dominion University (ODU) has its own unique set of traditions that reflect the spirit and culture of the university and its community. Here are some notable traditions at ODU:\\n\\n1. **The Big Blue**: The university mascot, a blue monarch, serves as a symbol of school spirit at athletic events and other university functions.\\n\\n2. **Homecoming**: A cherished tradition that typically features a week of festivities, including parades, a football game, and various student activities designed to bring alumni and current students together.\\n\\n3. **The Royal Court**: Part of the Homecoming festivities, the Royal Court includes the Homecoming Queen and King, alongside other court members, who are elected by students and represent the university community.\\n\\n4. **ODU Spirit Walk**: A tradition during Homecoming and other celebrations, the Spirit Walk involves students, alumni, and fans gathering to showcase their ODU pride and cheer on the Monarchs.\\n\\n5. **The Monarch Way**: This walkway features signs and artwork celebrating ODU's history, values, and achievements. It's a pathway that connects campus and serves as a space for students, faculty, and visitors.\\n\\n6. **FestEvents**: Organized by the university, these events include various activities, performances, and shows that encourage community engagement and foster a sense of belonging on campus.\\n\\n7. **Coastal Virginia Celebration**: This event recognizes the connection between ODU and the local community, featuring activities that highlight both the university's and the region's culture.\\n\\n8. **Student Organizations and Involvement**: ODU has hundreds of student organizations that contribute to campus life, reflecting diverse interests, cultures, and academic disciplines, with many hosting their own traditions and events.\\n\\n9. **Relay for Life**: As part of a nationwide initiative, ODU participates in Relay for Life events to raise awareness and funds for cancer research and support.\\n\\n10. **Finals Week Exam Breakfast**: This tradition offers a late-night breakfast for students during finals week, providing a study break and a chance for students to come together and relax.\\n\\nThese traditions help foster school spirit, community, and involvement at Old Dominion University, making it a vibrant place for students, faculty, and alumni.\", 'options': None}, {'role': 'user', 'metadata': None, 'content': 'what are the top public universities in Virginia?', 'options': None}, {'role': 'assistant', 'metadata': None, 'content': \"Virginia is home to several highly regarded public universities. Here are some of the top public universities in Virginia, known for their academic programs, research initiatives, and overall reputation:\\n\\n1. **University of Virginia (UVA)**: Located in Charlottesville, UVA is one of the oldest universities in the United States and is renowned for its rigorous academics, distinguished faculty, and vibrant campus life. It consistently ranks among the top public universities in the nation.\\n\\n2. **Virginia Tech**: Based in Blacksburg, Virginia Tech is recognized for its engineering, technology, and agricultural programs. The university has a strong focus on research and offers a variety of undergraduate and graduate programs.\\n\\n3. **James Madison University (JMU)**: Situated in Harrisonburg, JMU is known for its strong emphasis on student life and community engagement. It offers a range of undergraduate and graduate programs, particularly in business, health sciences, and education.\\n\\n4. **George Mason University**: Located in Fairfax, George Mason is known for its diverse programs, particularly in law, public policy, and business. It has a strong focus on research and offers numerous opportunities for students to engage in practical experiences.\\n\\n5. **Old Dominion University (ODU)**: Based in Norfolk, ODU is known for its commitment to research and community engagement, particularly in areas such as engineering, business, and health sciences.\\n\\n6. **Virginia Commonwealth University (VCU)**: Located in Richmond, VCU is well-known for its programs in the arts, health sciences, and social work. The university has a vibrant urban campus and emphasizes research and creative scholarship.\\n\\n7. **Radford University**: Located in Radford, this university offers a range of undergraduate and graduate programs and is particularly known for its education, business, and health programs.\\n\\nThese institutions are noted for their academic excellence, research contributions, and overall impact on students and communities in Virginia and beyond. Rankings can vary based on different criteria, so it's also important to consider specific programs and areas of interest when evaluating universities.\", 'options': None}, {'role': 'user', 'content': 'what are the best state universities in California?'}]\n",
      "HISTORY:\n",
      "[{'role': 'user', 'metadata': None, 'content': 'Howdy!', 'options': None}, {'role': 'assistant', 'metadata': None, 'content': 'Howdy! How can I assist you today?', 'options': None}, {'role': 'user', 'metadata': None, 'content': 'what are the types of traditions at Texas A&M University?', 'options': None}, {'role': 'assistant', 'metadata': None, 'content': 'Texas A&M University has a rich history and a variety of traditions that are cherished by its students, alumni, and faculty. Here are some of the most notable traditions:\\n\\n1. **Aggie Spirit**: The concept of \"Aggie Spirit” encompasses loyalty, pride, and camaraderie among the Aggie community.\\n\\n2. **The Aggie Ring**: One of the most significant symbols of achievement at Texas A&M, the Aggie Ring is worn by students who have completed a certain number of credit hours. \\n\\n3. **Midnight Yell**: A pep rally held the night before home football games, featuring the Yell Leaders and the Aggie Band, where students gather to practice cheers and get hyped for the game.\\n\\n4. **Silver Taps**: A solemn ceremony held on the first Tuesday of each month to honor students who have passed away. The campus gathers at night, and the event includes a procession and the playing of \"Taps.\"\\n\\n5. **Bonfire**: Although the traditional Bonfire was tragically discontinued after the 1999 collapse, the spirit of Bonfire still lives on in various forms of celebration before the football game against the University of Texas.\\n\\n6. **The Corps of Cadets**: One of the oldest military organizations at a public university in the United States, the Corps has its own customs, ceremonies, and traditions, including the \"Guidon\" and the \"Silver Taps\" memorial.\\n\\n7. **Fish Camp**: A leadership camp for incoming freshmen (called \"Fish\") that fosters community, introduces them to university life, and builds connections with other Aggies.\\n\\n8. **Class Rings and Ring Day**: In addition to wearing the Aggie Ring, there is a special ceremony for students receiving their rings, emphasizing the significance of the ring to their education and identity as Aggies.\\n\\n9. **Howdy Week**: A week of activities aimed at welcoming new students to campus, featuring various events that promote Aggie traditions and encourage engagement within the university community.\\n\\n10. **Yell Leaders**: Unique to Texas A&M, these selected students lead the crowd in cheers and chants at athletic events, particularly football games.\\n\\n11. **Singing Cadence and the Aggie War Hymn**: The university community often participates in singing the Aggie War Hymn during events and celebrations.\\n\\nThese traditions contribute to a strong sense of identity and community among students, alumni, and faculty at Texas A&M University.', 'options': None}, {'role': 'user', 'metadata': None, 'content': 'why has the Bon Fire stopped?', 'options': None}, {'role': 'assistant', 'metadata': None, 'content': 'The traditional Texas A&M University Bonfire was discontinued after the tragic collapse of the structure in 1999, which resulted in the deaths of 12 students and injuries to many others. \\n\\nThe Bonfire, which had been a longstanding tradition in which students would gather to build a massive wooden structure to be burned before the football game against the University of Texas, faced increasing safety concerns over the years. Despite efforts to address these concerns and improve safety protocols, the tragic incident highlighted the risks associated with the construction and participation in Bonfire activities.\\n\\nFollowing the disaster, the university conducted a thorough investigation, and the Texas A&M administration made the decision to suspend the Bonfire tradition permanently. \\n\\nAlthough the physical Bonfire as it once was is no longer held, the spirit of Bonfire continues to be commemorated in other ways, including smaller events and alternative celebrations that honor the tradition and the lives of those lost. The Aggie community remains committed to remembering the students and their contribution to Texas A&M.', 'options': None}, {'role': 'user', 'metadata': None, 'content': 'What are some of the traditions at Old Dominion University?', 'options': None}, {'role': 'assistant', 'metadata': None, 'content': \"Old Dominion University (ODU) has its own unique set of traditions that reflect the spirit and culture of the university and its community. Here are some notable traditions at ODU:\\n\\n1. **The Big Blue**: The university mascot, a blue monarch, serves as a symbol of school spirit at athletic events and other university functions.\\n\\n2. **Homecoming**: A cherished tradition that typically features a week of festivities, including parades, a football game, and various student activities designed to bring alumni and current students together.\\n\\n3. **The Royal Court**: Part of the Homecoming festivities, the Royal Court includes the Homecoming Queen and King, alongside other court members, who are elected by students and represent the university community.\\n\\n4. **ODU Spirit Walk**: A tradition during Homecoming and other celebrations, the Spirit Walk involves students, alumni, and fans gathering to showcase their ODU pride and cheer on the Monarchs.\\n\\n5. **The Monarch Way**: This walkway features signs and artwork celebrating ODU's history, values, and achievements. It's a pathway that connects campus and serves as a space for students, faculty, and visitors.\\n\\n6. **FestEvents**: Organized by the university, these events include various activities, performances, and shows that encourage community engagement and foster a sense of belonging on campus.\\n\\n7. **Coastal Virginia Celebration**: This event recognizes the connection between ODU and the local community, featuring activities that highlight both the university's and the region's culture.\\n\\n8. **Student Organizations and Involvement**: ODU has hundreds of student organizations that contribute to campus life, reflecting diverse interests, cultures, and academic disciplines, with many hosting their own traditions and events.\\n\\n9. **Relay for Life**: As part of a nationwide initiative, ODU participates in Relay for Life events to raise awareness and funds for cancer research and support.\\n\\n10. **Finals Week Exam Breakfast**: This tradition offers a late-night breakfast for students during finals week, providing a study break and a chance for students to come together and relax.\\n\\nThese traditions help foster school spirit, community, and involvement at Old Dominion University, making it a vibrant place for students, faculty, and alumni.\", 'options': None}, {'role': 'user', 'metadata': None, 'content': 'what are the top public universities in Virginia?', 'options': None}, {'role': 'assistant', 'metadata': None, 'content': \"Virginia is home to several highly regarded public universities. Here are some of the top public universities in Virginia, known for their academic programs, research initiatives, and overall reputation:\\n\\n1. **University of Virginia (UVA)**: Located in Charlottesville, UVA is one of the oldest universities in the United States and is renowned for its rigorous academics, distinguished faculty, and vibrant campus life. It consistently ranks among the top public universities in the nation.\\n\\n2. **Virginia Tech**: Based in Blacksburg, Virginia Tech is recognized for its engineering, technology, and agricultural programs. The university has a strong focus on research and offers a variety of undergraduate and graduate programs.\\n\\n3. **James Madison University (JMU)**: Situated in Harrisonburg, JMU is known for its strong emphasis on student life and community engagement. It offers a range of undergraduate and graduate programs, particularly in business, health sciences, and education.\\n\\n4. **George Mason University**: Located in Fairfax, George Mason is known for its diverse programs, particularly in law, public policy, and business. It has a strong focus on research and offers numerous opportunities for students to engage in practical experiences.\\n\\n5. **Old Dominion University (ODU)**: Based in Norfolk, ODU is known for its commitment to research and community engagement, particularly in areas such as engineering, business, and health sciences.\\n\\n6. **Virginia Commonwealth University (VCU)**: Located in Richmond, VCU is well-known for its programs in the arts, health sciences, and social work. The university has a vibrant urban campus and emphasizes research and creative scholarship.\\n\\n7. **Radford University**: Located in Radford, this university offers a range of undergraduate and graduate programs and is particularly known for its education, business, and health programs.\\n\\nThese institutions are noted for their academic excellence, research contributions, and overall impact on students and communities in Virginia and beyond. Rankings can vary based on different criteria, so it's also important to consider specific programs and areas of interest when evaluating universities.\", 'options': None}, {'role': 'user', 'metadata': None, 'content': 'what are the best state universities in California?', 'options': None}, {'role': 'assistant', 'metadata': None, 'content': 'California is home to a number of highly regarded state universities, many of which are part of the California State University (CSU) system and the University of California (UC) system. Here are some of the best state universities in California:\\n\\n### University of California (UC) System\\n\\n1. **University of California, Berkeley (UC Berkeley)**: Renowned for its academic rigor and research output, UC Berkeley is often ranked among the top public universities in the country. It offers a wide range of programs and is particularly strong in fields such as engineering, business, law, and the sciences.\\n\\n2. **University of California, Los Angeles (UCLA)**: Another prestigious institution, UCLA is well-known for its diverse programs, research opportunities, and vibrant campus life. It excels in many areas, including the arts, humanities, social sciences, and health sciences.\\n\\n3. **University of California, San Diego (UC San Diego)**: UCSD is recognized for its strengths in science, engineering, and medicine, as well as its commitment to research. It has a strong emphasis on interdisciplinary studies.\\n\\n4. **University of California, Davis (UC Davis)**: Known for its agricultural and environmental sciences programs, UC Davis also offers a range of other academic disciplines, including health, law, and engineering.\\n\\n5. **University of California, Irvine (UC Irvine)**: UC Irvine has a reputation for its strong research programs and is particularly known for its contributions to the fields of science and technology, social sciences, and business.\\n\\n### California State University (CSU) System\\n\\n1. **California State University, Long Beach (CSU Long Beach)**: Often ranked as one of the top public universities in the West, CSU Long Beach has strong programs in engineering, business, and the arts.\\n\\n2. **California State University, Los Angeles (CSU LA)**: Known for its diverse student body and accessible education, CSU LA offers a wide range of undergraduate and graduate programs, with strengths in criminal justice, education, and business.\\n\\n3. **California Polytechnic State University, San Luis Obispo (Cal Poly SLO)**: Recognized for its \"learn by doing\" philosophy, Cal Poly SLO is particularly strong in engineering, architecture, agriculture, and business.\\n\\n4. **San Diego State University (SDSU)**: SDSU is known for its robust research initiatives and offers a variety of undergraduate and graduate programs, with a strong reputation in business, engineering, and public health.\\n\\n5. **California State University, Fullerton (CSU Fullerton)**: This university has a strong emphasis on business, education, and the arts, and it is recognized for its diverse programs and community engagement.\\n\\nThese universities are known for their academic programs, research contributions, and overall impact on students and the community. Rankings can fluctuate based on various criteria, so it\\'s advisable to consider specific programs and areas of interest when evaluating these institutions.', 'options': None}]\n",
      "MESSAGES:\n",
      "[{'role': 'system', 'content': 'You are a helpful assistant'}, {'role': 'user', 'metadata': None, 'content': 'Howdy!', 'options': None}, {'role': 'assistant', 'metadata': None, 'content': 'Howdy! How can I assist you today?', 'options': None}, {'role': 'user', 'metadata': None, 'content': 'what are the types of traditions at Texas A&M University?', 'options': None}, {'role': 'assistant', 'metadata': None, 'content': 'Texas A&M University has a rich history and a variety of traditions that are cherished by its students, alumni, and faculty. Here are some of the most notable traditions:\\n\\n1. **Aggie Spirit**: The concept of \"Aggie Spirit” encompasses loyalty, pride, and camaraderie among the Aggie community.\\n\\n2. **The Aggie Ring**: One of the most significant symbols of achievement at Texas A&M, the Aggie Ring is worn by students who have completed a certain number of credit hours. \\n\\n3. **Midnight Yell**: A pep rally held the night before home football games, featuring the Yell Leaders and the Aggie Band, where students gather to practice cheers and get hyped for the game.\\n\\n4. **Silver Taps**: A solemn ceremony held on the first Tuesday of each month to honor students who have passed away. The campus gathers at night, and the event includes a procession and the playing of \"Taps.\"\\n\\n5. **Bonfire**: Although the traditional Bonfire was tragically discontinued after the 1999 collapse, the spirit of Bonfire still lives on in various forms of celebration before the football game against the University of Texas.\\n\\n6. **The Corps of Cadets**: One of the oldest military organizations at a public university in the United States, the Corps has its own customs, ceremonies, and traditions, including the \"Guidon\" and the \"Silver Taps\" memorial.\\n\\n7. **Fish Camp**: A leadership camp for incoming freshmen (called \"Fish\") that fosters community, introduces them to university life, and builds connections with other Aggies.\\n\\n8. **Class Rings and Ring Day**: In addition to wearing the Aggie Ring, there is a special ceremony for students receiving their rings, emphasizing the significance of the ring to their education and identity as Aggies.\\n\\n9. **Howdy Week**: A week of activities aimed at welcoming new students to campus, featuring various events that promote Aggie traditions and encourage engagement within the university community.\\n\\n10. **Yell Leaders**: Unique to Texas A&M, these selected students lead the crowd in cheers and chants at athletic events, particularly football games.\\n\\n11. **Singing Cadence and the Aggie War Hymn**: The university community often participates in singing the Aggie War Hymn during events and celebrations.\\n\\nThese traditions contribute to a strong sense of identity and community among students, alumni, and faculty at Texas A&M University.', 'options': None}, {'role': 'user', 'metadata': None, 'content': 'why has the Bon Fire stopped?', 'options': None}, {'role': 'assistant', 'metadata': None, 'content': 'The traditional Texas A&M University Bonfire was discontinued after the tragic collapse of the structure in 1999, which resulted in the deaths of 12 students and injuries to many others. \\n\\nThe Bonfire, which had been a longstanding tradition in which students would gather to build a massive wooden structure to be burned before the football game against the University of Texas, faced increasing safety concerns over the years. Despite efforts to address these concerns and improve safety protocols, the tragic incident highlighted the risks associated with the construction and participation in Bonfire activities.\\n\\nFollowing the disaster, the university conducted a thorough investigation, and the Texas A&M administration made the decision to suspend the Bonfire tradition permanently. \\n\\nAlthough the physical Bonfire as it once was is no longer held, the spirit of Bonfire continues to be commemorated in other ways, including smaller events and alternative celebrations that honor the tradition and the lives of those lost. The Aggie community remains committed to remembering the students and their contribution to Texas A&M.', 'options': None}, {'role': 'user', 'metadata': None, 'content': 'What are some of the traditions at Old Dominion University?', 'options': None}, {'role': 'assistant', 'metadata': None, 'content': \"Old Dominion University (ODU) has its own unique set of traditions that reflect the spirit and culture of the university and its community. Here are some notable traditions at ODU:\\n\\n1. **The Big Blue**: The university mascot, a blue monarch, serves as a symbol of school spirit at athletic events and other university functions.\\n\\n2. **Homecoming**: A cherished tradition that typically features a week of festivities, including parades, a football game, and various student activities designed to bring alumni and current students together.\\n\\n3. **The Royal Court**: Part of the Homecoming festivities, the Royal Court includes the Homecoming Queen and King, alongside other court members, who are elected by students and represent the university community.\\n\\n4. **ODU Spirit Walk**: A tradition during Homecoming and other celebrations, the Spirit Walk involves students, alumni, and fans gathering to showcase their ODU pride and cheer on the Monarchs.\\n\\n5. **The Monarch Way**: This walkway features signs and artwork celebrating ODU's history, values, and achievements. It's a pathway that connects campus and serves as a space for students, faculty, and visitors.\\n\\n6. **FestEvents**: Organized by the university, these events include various activities, performances, and shows that encourage community engagement and foster a sense of belonging on campus.\\n\\n7. **Coastal Virginia Celebration**: This event recognizes the connection between ODU and the local community, featuring activities that highlight both the university's and the region's culture.\\n\\n8. **Student Organizations and Involvement**: ODU has hundreds of student organizations that contribute to campus life, reflecting diverse interests, cultures, and academic disciplines, with many hosting their own traditions and events.\\n\\n9. **Relay for Life**: As part of a nationwide initiative, ODU participates in Relay for Life events to raise awareness and funds for cancer research and support.\\n\\n10. **Finals Week Exam Breakfast**: This tradition offers a late-night breakfast for students during finals week, providing a study break and a chance for students to come together and relax.\\n\\nThese traditions help foster school spirit, community, and involvement at Old Dominion University, making it a vibrant place for students, faculty, and alumni.\", 'options': None}, {'role': 'user', 'metadata': None, 'content': 'what are the top public universities in Virginia?', 'options': None}, {'role': 'assistant', 'metadata': None, 'content': \"Virginia is home to several highly regarded public universities. Here are some of the top public universities in Virginia, known for their academic programs, research initiatives, and overall reputation:\\n\\n1. **University of Virginia (UVA)**: Located in Charlottesville, UVA is one of the oldest universities in the United States and is renowned for its rigorous academics, distinguished faculty, and vibrant campus life. It consistently ranks among the top public universities in the nation.\\n\\n2. **Virginia Tech**: Based in Blacksburg, Virginia Tech is recognized for its engineering, technology, and agricultural programs. The university has a strong focus on research and offers a variety of undergraduate and graduate programs.\\n\\n3. **James Madison University (JMU)**: Situated in Harrisonburg, JMU is known for its strong emphasis on student life and community engagement. It offers a range of undergraduate and graduate programs, particularly in business, health sciences, and education.\\n\\n4. **George Mason University**: Located in Fairfax, George Mason is known for its diverse programs, particularly in law, public policy, and business. It has a strong focus on research and offers numerous opportunities for students to engage in practical experiences.\\n\\n5. **Old Dominion University (ODU)**: Based in Norfolk, ODU is known for its commitment to research and community engagement, particularly in areas such as engineering, business, and health sciences.\\n\\n6. **Virginia Commonwealth University (VCU)**: Located in Richmond, VCU is well-known for its programs in the arts, health sciences, and social work. The university has a vibrant urban campus and emphasizes research and creative scholarship.\\n\\n7. **Radford University**: Located in Radford, this university offers a range of undergraduate and graduate programs and is particularly known for its education, business, and health programs.\\n\\nThese institutions are noted for their academic excellence, research contributions, and overall impact on students and communities in Virginia and beyond. Rankings can vary based on different criteria, so it's also important to consider specific programs and areas of interest when evaluating universities.\", 'options': None}, {'role': 'user', 'metadata': None, 'content': 'what are the best state universities in California?', 'options': None}, {'role': 'assistant', 'metadata': None, 'content': 'California is home to a number of highly regarded state universities, many of which are part of the California State University (CSU) system and the University of California (UC) system. Here are some of the best state universities in California:\\n\\n### University of California (UC) System\\n\\n1. **University of California, Berkeley (UC Berkeley)**: Renowned for its academic rigor and research output, UC Berkeley is often ranked among the top public universities in the country. It offers a wide range of programs and is particularly strong in fields such as engineering, business, law, and the sciences.\\n\\n2. **University of California, Los Angeles (UCLA)**: Another prestigious institution, UCLA is well-known for its diverse programs, research opportunities, and vibrant campus life. It excels in many areas, including the arts, humanities, social sciences, and health sciences.\\n\\n3. **University of California, San Diego (UC San Diego)**: UCSD is recognized for its strengths in science, engineering, and medicine, as well as its commitment to research. It has a strong emphasis on interdisciplinary studies.\\n\\n4. **University of California, Davis (UC Davis)**: Known for its agricultural and environmental sciences programs, UC Davis also offers a range of other academic disciplines, including health, law, and engineering.\\n\\n5. **University of California, Irvine (UC Irvine)**: UC Irvine has a reputation for its strong research programs and is particularly known for its contributions to the fields of science and technology, social sciences, and business.\\n\\n### California State University (CSU) System\\n\\n1. **California State University, Long Beach (CSU Long Beach)**: Often ranked as one of the top public universities in the West, CSU Long Beach has strong programs in engineering, business, and the arts.\\n\\n2. **California State University, Los Angeles (CSU LA)**: Known for its diverse student body and accessible education, CSU LA offers a wide range of undergraduate and graduate programs, with strengths in criminal justice, education, and business.\\n\\n3. **California Polytechnic State University, San Luis Obispo (Cal Poly SLO)**: Recognized for its \"learn by doing\" philosophy, Cal Poly SLO is particularly strong in engineering, architecture, agriculture, and business.\\n\\n4. **San Diego State University (SDSU)**: SDSU is known for its robust research initiatives and offers a variety of undergraduate and graduate programs, with a strong reputation in business, engineering, and public health.\\n\\n5. **California State University, Fullerton (CSU Fullerton)**: This university has a strong emphasis on business, education, and the arts, and it is recognized for its diverse programs and community engagement.\\n\\nThese universities are known for their academic programs, research contributions, and overall impact on students and the community. Rankings can fluctuate based on various criteria, so it\\'s advisable to consider specific programs and areas of interest when evaluating these institutions.', 'options': None}, {'role': 'user', 'content': 'How about the next set of Cal State schools?'}]\n"
     ]
    }
   ],
   "source": [
    "gr.ChatInterface(fn=chat, type=\"messages\").launch()"
   ]
  },
  {
   "cell_type": "code",
   "execution_count": 17,
   "id": "1f91b414-8bab-472d-b9c9-3fa51259bdfe",
   "metadata": {},
   "outputs": [],
   "source": [
    "system_message = \"You are a helpful assistant in a clothes store. You should try to gently encourage \\\n",
    "the customer to try items that are on sale. Hats are 60% off, and most other items are 50% off. \\\n",
    "For example, if the customer says 'I'm looking to buy a hat', \\\n",
    "you could reply something like, 'Wonderful - we have lots of hats - including several that are part of our sales event.'\\\n",
    "Encourage the customer to buy hats if they are unsure what to get.\""
   ]
  },
  {
   "cell_type": "code",
   "execution_count": 18,
   "id": "4e5be3ec-c26c-42bc-ac16-c39d369883f6",
   "metadata": {},
   "outputs": [],
   "source": [
    "def chat(message, history):\n",
    "    messages = [{\"role\": \"system\", \"content\": system_message}] + history + [{\"role\": \"user\", \"content\": message}]\n",
    "\n",
    "    stream = openai.chat.completions.create(model=MODEL, messages=messages, stream=True)\n",
    "\n",
    "    response = \"\"\n",
    "    for chunk in stream:\n",
    "        response += chunk.choices[0].delta.content or ''\n",
    "        yield response"
   ]
  },
  {
   "cell_type": "code",
   "execution_count": 19,
   "id": "413e9e4e-7836-43ac-a0c3-e1ab5ed6b136",
   "metadata": {},
   "outputs": [
    {
     "name": "stdout",
     "output_type": "stream",
     "text": [
      "* Running on local URL:  http://127.0.0.1:7878\n",
      "\n",
      "To create a public link, set `share=True` in `launch()`.\n"
     ]
    },
    {
     "data": {
      "text/html": [
       "<div><iframe src=\"http://127.0.0.1:7878/\" width=\"100%\" height=\"500\" allow=\"autoplay; camera; microphone; clipboard-read; clipboard-write;\" frameborder=\"0\" allowfullscreen></iframe></div>"
      ],
      "text/plain": [
       "<IPython.core.display.HTML object>"
      ]
     },
     "metadata": {},
     "output_type": "display_data"
    },
    {
     "data": {
      "text/plain": []
     },
     "execution_count": 19,
     "metadata": {},
     "output_type": "execute_result"
    }
   ],
   "source": [
    "gr.ChatInterface(fn=chat, type=\"messages\").launch()"
   ]
  },
  {
   "cell_type": "code",
   "execution_count": 20,
   "id": "d75f0ffa-55c8-4152-b451-945021676837",
   "metadata": {},
   "outputs": [],
   "source": [
    "system_message += \"\\nIf the customer asks for shoes, you should respond that shoes are not on sale today, \\\n",
    "but remind the customer to look at hats!\""
   ]
  },
  {
   "cell_type": "code",
   "execution_count": 21,
   "id": "c602a8dd-2df7-4eb7-b539-4e01865a6351",
   "metadata": {},
   "outputs": [
    {
     "name": "stdout",
     "output_type": "stream",
     "text": [
      "* Running on local URL:  http://127.0.0.1:7879\n",
      "\n",
      "To create a public link, set `share=True` in `launch()`.\n"
     ]
    },
    {
     "data": {
      "text/html": [
       "<div><iframe src=\"http://127.0.0.1:7879/\" width=\"100%\" height=\"500\" allow=\"autoplay; camera; microphone; clipboard-read; clipboard-write;\" frameborder=\"0\" allowfullscreen></iframe></div>"
      ],
      "text/plain": [
       "<IPython.core.display.HTML object>"
      ]
     },
     "metadata": {},
     "output_type": "display_data"
    },
    {
     "data": {
      "text/plain": []
     },
     "execution_count": 21,
     "metadata": {},
     "output_type": "execute_result"
    }
   ],
   "source": [
    "gr.ChatInterface(fn=chat, type=\"messages\").launch()"
   ]
  },
  {
   "cell_type": "code",
   "execution_count": 22,
   "id": "0a987a66-1061-46d6-a83a-a30859dc88bf",
   "metadata": {},
   "outputs": [],
   "source": [
    "# Fixed a bug in this function brilliantly identified by student Gabor M.!\n",
    "# I've also improved the structure of this function\n",
    "\n",
    "def chat(message, history):\n",
    "\n",
    "    relevant_system_message = system_message\n",
    "    if 'belt' in message:\n",
    "        relevant_system_message += \" The store does not sell belts; if you are asked for belts, be sure to point out other items on sale.\"\n",
    "    \n",
    "    messages = [{\"role\": \"system\", \"content\": relevant_system_message}] + history + [{\"role\": \"user\", \"content\": message}]\n",
    "\n",
    "    stream = openai.chat.completions.create(model=MODEL, messages=messages, stream=True)\n",
    "\n",
    "    response = \"\"\n",
    "    for chunk in stream:\n",
    "        response += chunk.choices[0].delta.content or ''\n",
    "        yield response"
   ]
  },
  {
   "cell_type": "code",
   "execution_count": 23,
   "id": "20570de2-eaad-42cc-a92c-c779d71b48b6",
   "metadata": {},
   "outputs": [
    {
     "name": "stdout",
     "output_type": "stream",
     "text": [
      "* Running on local URL:  http://127.0.0.1:7880\n",
      "\n",
      "To create a public link, set `share=True` in `launch()`.\n"
     ]
    },
    {
     "data": {
      "text/html": [
       "<div><iframe src=\"http://127.0.0.1:7880/\" width=\"100%\" height=\"500\" allow=\"autoplay; camera; microphone; clipboard-read; clipboard-write;\" frameborder=\"0\" allowfullscreen></iframe></div>"
      ],
      "text/plain": [
       "<IPython.core.display.HTML object>"
      ]
     },
     "metadata": {},
     "output_type": "display_data"
    },
    {
     "data": {
      "text/plain": []
     },
     "execution_count": 23,
     "metadata": {},
     "output_type": "execute_result"
    }
   ],
   "source": [
    "gr.ChatInterface(fn=chat, type=\"messages\").launch()"
   ]
  },
  {
   "cell_type": "markdown",
   "id": "82a57ee0-b945-48a7-a024-01b56a5d4b3e",
   "metadata": {},
   "source": [
    "<table style=\"margin: 0; text-align: left;\">\n",
    "    <tr>\n",
    "        <td style=\"width: 150px; height: 150px; vertical-align: middle;\">\n",
    "            <img src=\"../business.jpg\" width=\"150\" height=\"150\" style=\"display: block;\" />\n",
    "        </td>\n",
    "        <td>\n",
    "            <h2 style=\"color:#181;\">Business Applications</h2>\n",
    "            <span style=\"color:#181;\">Conversational Assistants are of course a hugely common use case for Gen AI, and the latest frontier models are remarkably good at nuanced conversation. And Gradio makes it easy to have a user interface. Another crucial skill we covered is how to use prompting to provide context, information and examples.\n",
    "<br/><br/>\n",
    "Consider how you could apply an AI Assistant to your business, and make yourself a prototype. Use the system prompt to give context on your business, and set the tone for the LLM.</span>\n",
    "        </td>\n",
    "    </tr>\n",
    "</table>"
   ]
  },
  {
   "cell_type": "code",
   "execution_count": 26,
   "id": "6dfb9e21-df67-4c2b-b952-5e7e7961b03d",
   "metadata": {},
   "outputs": [],
   "source": [
    "def chat(message, history):\n",
    "\n",
    "    relevant_system_message = system_message\n",
    "    if 'belt' in message:\n",
    "        relevant_system_message += \" The store does not sell belts; if you are asked for belts, be sure to point out other items on sale.\"\n",
    "    if 'socks' in message:\n",
    "        relevant_system_message += \" The store owner thinks socks are for elderly old men in Denmark, and thus the store does not sell socks. Point out that the store owner is an italian and NEVER wears socks!\"\n",
    "\n",
    "    messages = [{\"role\": \"system\", \"content\": relevant_system_message}] + history + [{\"role\": \"user\", \"content\": message}]\n",
    "\n",
    "    stream = openai.chat.completions.create(model=MODEL, messages=messages, stream=True)\n",
    "\n",
    "    response = \"\"\n",
    "    for chunk in stream:\n",
    "        response += chunk.choices[0].delta.content or ''\n",
    "        yield response"
   ]
  },
  {
   "cell_type": "code",
   "execution_count": 27,
   "id": "13f827c4-dcbc-4a58-a1a3-95e7fceafd42",
   "metadata": {},
   "outputs": [
    {
     "name": "stdout",
     "output_type": "stream",
     "text": [
      "* Running on local URL:  http://127.0.0.1:7882\n",
      "\n",
      "To create a public link, set `share=True` in `launch()`.\n"
     ]
    },
    {
     "data": {
      "text/html": [
       "<div><iframe src=\"http://127.0.0.1:7882/\" width=\"100%\" height=\"500\" allow=\"autoplay; camera; microphone; clipboard-read; clipboard-write;\" frameborder=\"0\" allowfullscreen></iframe></div>"
      ],
      "text/plain": [
       "<IPython.core.display.HTML object>"
      ]
     },
     "metadata": {},
     "output_type": "display_data"
    },
    {
     "data": {
      "text/plain": []
     },
     "execution_count": 27,
     "metadata": {},
     "output_type": "execute_result"
    }
   ],
   "source": [
    "gr.ChatInterface(fn=chat, type=\"messages\").launch()"
   ]
  },
  {
   "cell_type": "code",
   "execution_count": null,
   "id": "282e7830-5a5b-4961-b909-5ef52072c9af",
   "metadata": {},
   "outputs": [],
   "source": []
  }
 ],
 "metadata": {
  "kernelspec": {
   "display_name": "Python 3 (ipykernel)",
   "language": "python",
   "name": "python3"
  },
  "language_info": {
   "codemirror_mode": {
    "name": "ipython",
    "version": 3
   },
   "file_extension": ".py",
   "mimetype": "text/x-python",
   "name": "python",
   "nbconvert_exporter": "python",
   "pygments_lexer": "ipython3",
   "version": "3.11.11"
  }
 },
 "nbformat": 4,
 "nbformat_minor": 5
}
